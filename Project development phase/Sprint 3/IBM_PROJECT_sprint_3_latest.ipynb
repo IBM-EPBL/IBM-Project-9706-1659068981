{
 "cells": [
  {
   "cell_type": "code",
   "execution_count": 1,
   "id": "e35efc4b",
   "metadata": {},
   "outputs": [],
   "source": [
    "import pandas as pd\n",
    "import random\n",
    "import requests, json\n",
    "import time\n",
    "from twilio.rest import Client\n"
   ]
  },
  {
   "cell_type": "code",
   "execution_count": 2,
   "id": "65886273",
   "metadata": {},
   "outputs": [],
   "source": [
    "df = pd.DataFrame()\n",
    "username = \"Pavithran 1904032 \""
   ]
  },
  {
   "cell_type": "code",
   "execution_count": 3,
   "id": "aa2a1946",
   "metadata": {},
   "outputs": [
    {
     "name": "stdout",
     "output_type": "stream",
     "text": [
      "-------- [5.21, 7.96, 3.89, 1.73, 5.69, 4.45, 8.86, 1.75, 3.76, 8.3, 7.96, 2.56, 5.3, 1.86, 8.64, 8.31, 1.7, 7.09, 7.52, 9.14, 4.57, 5.71, 7.05, 4.94, 4.41, 9.14, 0.54, 4.93, 0.99, 6.34, 2.27, 4.83, 8.94, 8.27, 0.73, 1.23, 5.53, 8.14, 8.73, 9.3, 8.55, 8.77, 7.19, 0.74, 3.32, 0.85, 3.45, 7.56, 9.35, 6.94, 9.22, 5.9, 7.67, 8.81, 8.6, 2.35, 9.2, 0.5, 1.37, 1.27, 5.29, 5.78, 9.12, 4.7, 2.41, 5.71, 6.92, 5.69, 2.8, 2.49, 0.89, 9.31, 7.08, 4.66, 0.48, 4.87, 8.74, 1.22, 2.16, 6.69, 8.4, 1.1, 9.16, 3.23, 5.05, 1.25, 1.15, 1.6, 4.55, 4.26, 5.62, 3.34, 7.59, 8.42, 7.4, 6.47, 6.27, 6.37, 2.17]\n",
      "-------- [8.13, 4.01, 2.11, 1.94, 5.02, 3.92, 8.76, 4.23, 5.58, 8.57, 3.75, 2.61, 5.94, 5.47, 9.11, 2.67, 2.03, 5.88, 5.43, 7.63, 4.28, 6.79, 4.93, 4.78, 9.03, 6.41, 9.91, 1.87, 5.44, 2.16, 9.28, 8.51, 2.13, 1.53, 2.27, 2.78, 7.91, 9.76, 7.55, 5.18, 7.01, 8.76, 8.57, 5.86, 8.31, 6.92, 0.47, 5.99, 6.37, 7.74, 6.29, 9.39, 9.97, 2.04, 1.04, 6.28, 7.4, 4.74, 6.33, 3.13, 4.23, 8.76, 2.92, 6.84, 4.54, 2.83, 9.43, 1.78, 0.93, 2.77, 0.98, 0.27, 7.74, 6.18, 9.73, 9.81, 3.65, 8.0, 0.58, 9.24, 4.3, 1.09, 4.46, 5.59, 0.55, 5.61, 8.65, 5.25, 2.49, 3.36, 2.94, 6.86, 8.83, 3.61, 7.87, 7.4, 2.94, 5.27, 7.14]\n",
      "-------- [6.35, 9.39, 4.85, 5.74, 3.28, 7.68, 2.91, 8.08, 1.33, 9.13, 4.99, 3.04, 7.29, 0.66, 5.57, 4.69, 3.01, 4.15, 4.73, 9.26, 7.68, 3.38, 1.93, 2.11, 4.68, 1.97, 2.53, 5.27, 1.61, 7.47, 7.7, 6.0, 1.68, 0.49, 6.98, 9.81, 6.59, 3.67, 1.27, 1.3, 9.41, 7.91, 2.24, 0.42, 6.11, 7.42, 2.8, 1.57, 1.27, 2.51, 7.16, 5.95, 9.72, 1.76, 8.27, 3.96, 8.38, 5.33, 5.75, 9.77, 3.27, 6.68, 0.58, 1.71, 6.59, 4.11, 1.07, 1.75, 3.59, 3.61, 5.1, 6.82, 3.46, 7.71, 7.45, 3.16, 7.39, 6.32, 1.88, 3.22, 3.1, 4.32, 1.73, 5.0, 6.72, 9.2, 5.69, 4.81, 9.91, 5.95, 9.08, 7.75, 2.67, 4.14, 7.47, 3.72, 4.05, 3.43, 0.71]\n",
      "-------- [4.56, 4.1, 6.09, 3.03, 7.47, 8.66, 5.14, 6.46, 3.22, 0.25, 7.17, 7.24, 9.5, 6.63, 9.21, 1.41, 4.52, 5.69, 8.63, 9.59, 1.51, 1.65, 9.27, 8.86, 5.8, 3.06, 5.3, 5.43, 3.02, 0.31, 4.55, 0.5, 9.8, 8.85, 9.79, 9.38, 6.08, 6.12, 5.17, 8.57, 3.04, 4.6, 4.39, 4.95, 3.59, 5.62, 9.07, 5.05, 9.81, 8.66, 3.12, 6.62, 5.7, 3.58, 3.09, 2.44, 1.11, 3.98, 5.28, 3.69, 4.72, 8.71, 9.5, 3.79, 1.79, 2.36, 2.8, 5.57, 1.93, 1.16, 9.35, 3.38, 5.15, 3.38, 9.44, 8.77, 6.55, 7.57, 1.59, 8.53, 1.19, 5.56, 8.66, 8.73, 6.26, 9.84, 7.21, 7.22, 7.4, 8.89, 9.63, 3.69, 4.95, 5.27, 5.08, 1.37, 2.53, 3.87, 5.74]\n",
      "-------- [45.9, 19.1, 13.0, 4.3, 82.7, 60.5, 39.5, 48.3, 70.6, 95.9, 86.0, 30.4, 62.3, 38.6, 57.4, 51.2, 20.8, 16.6, 82.8, 55.5, 57.5, 65.5, 18.4, 87.2, 70.4, 44.9, 73.8, 26.0, 31.5, 53.5, 33.0, 76.7, 88.1, 64.8, 48.8, 24.7, 61.2, 32.4, 72.5, 50.5, 94.2, 86.1, 98.7, 21.3, 5.9, 11.5, 32.5, 43.0, 65.6, 37.9, 59.9, 71.3, 20.1, 97.1, 70.2, 51.2, 58.9, 76.4, 87.5, 95.9, 5.6, 34.6, 53.8, 74.0, 24.8, 58.9, 43.8, 71.1, 63.5, 52.1, 1.9, 87.3, 40.3, 71.5, 38.9, 45.5, 70.3, 61.0, 91.3, 41.6, 18.1, 46.3, 73.6, 97.9, 47.2, 62.6, 94.6, 98.7, 87.2, 14.0, 34.2, 40.6, 13.0, 11.0, 31.7, 43.0, 72.6, 93.4, 46.0]\n"
     ]
    }
   ],
   "source": [
    "rand_prox_location_1=[]\n",
    "constrain_location_1=9.7\n",
    "rand_prox_location_2=[]\n",
    "constrain_location_2=7\n",
    "rand_prox_location_3=[]\n",
    "constrain_location_3=9.5\n",
    "rand_prox_location_4=[]\n",
    "constrain_location_4=9.9\n",
    "soil_humidity=[]\n",
    "constrain_soil_humidity= 75\n",
    "constrain_temp= 295\n",
    "constrain_humidity= 80\n",
    "constrain_pressure= 1030\n",
    "constrain_soil_humidity_low =40\n",
    "for i in range(1,100):\n",
    "    rand_prox_location_1.append(round(random.uniform(0.25,10),2))\n",
    "    rand_prox_location_2.append(round(random.uniform(0.25,10),2))\n",
    "    rand_prox_location_3.append(round(random.uniform(0.25,10),2))\n",
    "    rand_prox_location_4.append(round(random.uniform(0.25,10),2))\n",
    "    soil_humidity.append(round(random.uniform(1,100),1))\n",
    "print(\"--------\",rand_prox_location_4)\n",
    "print(\"--------\",rand_prox_location_3)\n",
    "print(\"--------\",rand_prox_location_2)\n",
    "print(\"--------\",rand_prox_location_1)\n",
    "print(\"--------\",soil_humidity)"
   ]
  },
  {
   "cell_type": "code",
   "execution_count": 69,
   "id": "3d6aca31",
   "metadata": {},
   "outputs": [],
   "source": [
    "df['Location_1']=rand_prox_location_1\n",
    "df['Location_2']=rand_prox_location_2\n",
    "df['Location_3']=rand_prox_location_3\n",
    "df['Location_4']=rand_prox_location_4\n",
    "df['soil_humidity']=soil_humidity\n",
    "df.to_excel('IBM_sensor_data.xlsx', index = False)\n"
   ]
  },
  {
   "cell_type": "code",
   "execution_count": 71,
   "id": "e2a4da87",
   "metadata": {},
   "outputs": [],
   "source": [
    "def send_sms(username,text):\n",
    "    SID= 'xxxxxxxxxxxxxxxxxxxxxxxxxxxxxxxxx'\n",
    "    auth_token='xxxxxxxxxxxxxxxxxxxxxxxxxxxxxx'\n",
    "\n",
    "    cl = Client(SID, auth_token)\n",
    "    cl.messages.create(body=\"Hey,\"+username+text,from_='+1xxxxxxxxxxxxxxx',to='xxxxxxxxxxxxxxxx' )"
   ]
  },
  {
   "cell_type": "code",
   "execution_count": 70,
   "id": "7648da03",
   "metadata": {},
   "outputs": [],
   "source": [
    "def get_whether():\n",
    "    api_key = \"xxxxxxxxxxxxxxxxxxxxxxxxxxxxxxx\"\n",
    "    base_url = \"http://api.openweathermap.org/data/2.5/weather?\"\n",
    "    city_name = \"Coimbatore\"\n",
    "    complete_url = base_url + \"appid=\" + api_key + \"&q=\" + city_name\n",
    "    response = requests.get(complete_url)\n",
    "    x = response.json()\n",
    "#     print(x)\n",
    "    if x[\"cod\"] != \"404\":\n",
    "        y = x[\"main\"]\n",
    "        current_temperature = y[\"temp\"]\n",
    "        current_pressure = y[\"pressure\"]\n",
    "        current_humidity = y[\"humidity\"]\n",
    "        z = x[\"weather\"]\n",
    "        weather_description = z[0][\"description\"]\n",
    "#         print(\" Temperature (in kelvin unit) = \" + str(current_temperature))\n",
    "#         print(\" Atmospheric pressure (in hPa unit) = \" +str(current_pressure)) \n",
    "#         print(\" Humidity (in percentage) = \" + str(current_humidity))\n",
    "#         print(\" Description = \" + str(weather_description))\n",
    "        return(current_temperature,current_pressure,current_humidity,weather_description)\n",
    "    else:\n",
    "        print(\" City Not Found \")\n",
    "    \n"
   ]
  },
  {
   "cell_type": "code",
   "execution_count": null,
   "id": "8dfd4973",
   "metadata": {},
   "outputs": [
    {
     "name": "stdout",
     "output_type": "stream",
     "text": [
      " Temperature is high :298.03 ||  Pavithran 1904032 \n",
      "-------------------------------------------------------------------\n",
      "sending sms\n",
      "-------------------------------------------------------------------\n"
     ]
    }
   ],
   "source": [
    "for i in range(100):\n",
    "    time.sleep(30)\n",
    "    temp=[0,0,0,0]\n",
    "    value=[0,0,0,0]\n",
    "    animal_intrusion_set=0\n",
    "    temp_set=0\n",
    "    soil_humidity_set=0\n",
    "    pressure_set=0\n",
    "    atmos_humidity_set=0\n",
    "    animal_intrusion_text = ' Animal intrusion at'\n",
    "    temporary_text= ''\n",
    "    current_temperature,current_pressure,current_humidity,weather_description = get_whether()\n",
    "    if current_temperature > constrain_temp:\n",
    "        temp_set=1\n",
    "        temporary_text += ' Temperature is high :'+str(current_temperature) + ' || '\n",
    "    if current_pressure > constrain_pressure:\n",
    "        pressure_set=1\n",
    "        temporary_text += ' Pressure is high :'+str(current_pressure) + ' || '\n",
    "    if current_humidity > constrain_humidity:\n",
    "        atmos_humidity_set=1\n",
    "        temporary_text += ' Atmosphereic humidity is high :'+str(current_humidity ) + ' || '\n",
    "    if soil_humidity[i] > constrain_soil_humidity:\n",
    "        soil_humidity_set=1\n",
    "        temporary_text += ' Soil humidity is high :'+str(soil_humidity[i]) + ' || '\n",
    "    if soil_humidity[i] < constrain_soil_humidity_low:\n",
    "        soil_humidity_set=1\n",
    "        temporary_text += ' Soil humidity is low :'+str(soil_humidity[i]) + ' || '\n",
    "    if rand_prox_location_1[i] > constrain_location_1:\n",
    "        temp[0]=1\n",
    "        value[0]=rand_prox_location_1[i]\n",
    "    if rand_prox_location_2[i] > constrain_location_2:\n",
    "        temp[1]=1\n",
    "        value[1]=rand_prox_location_2[i]\n",
    "    if rand_prox_location_3[i] > constrain_location_3:\n",
    "        temp[2]=1\n",
    "        value[2]=rand_prox_location_3[i]\n",
    "    if rand_prox_location_4[i] > constrain_location_4:\n",
    "        temp[3]=1\n",
    "        value[3]=rand_prox_location_4[i]\n",
    "    for j in range(len(temp)):\n",
    "        if temp[j]==1:\n",
    "            animal_intrusion_set=1\n",
    "            animal_intrusion_text += ' location '+str(j)+ ' with a distance from sensor of ' + str(value[j]) + ' || '\n",
    "    trigger=0\n",
    "    if animal_intrusion_set==1:  \n",
    "        temporary_text+=animal_intrusion_text\n",
    "        trigger = 1\n",
    "    else:\n",
    "        if temporary_text != '':\n",
    "            trigger = 1\n",
    "    if trigger ==1:\n",
    "        print(temporary_text,username)\n",
    "        print(\"-------------------------------------------------------------------\")\n",
    "        print(\"sending sms\")\n",
    "        print(\"-------------------------------------------------------------------\")\n",
    "        time.sleep(30)\n",
    "        send_sms(temporary_text,username)\n",
    "        print(\"sms sent\")\n",
    "        print(\"-------------------------------------------------------------------\")\n",
    "        \n",
    "        "
   ]
  },
  {
   "cell_type": "code",
   "execution_count": null,
   "id": "60afe9b0",
   "metadata": {},
   "outputs": [],
   "source": []
  },
  {
   "cell_type": "code",
   "execution_count": 8,
   "id": "e88ab37a",
   "metadata": {},
   "outputs": [],
   "source": [
    "\n"
   ]
  },
  {
   "cell_type": "code",
   "execution_count": null,
   "id": "a9f3b64d",
   "metadata": {},
   "outputs": [],
   "source": []
  }
 ],
 "metadata": {
  "kernelspec": {
   "display_name": "Python 3 (ipykernel)",
   "language": "python",
   "name": "python3"
  },
  "language_info": {
   "codemirror_mode": {
    "name": "ipython",
    "version": 3
   },
   "file_extension": ".py",
   "mimetype": "text/x-python",
   "name": "python",
   "nbconvert_exporter": "python",
   "pygments_lexer": "ipython3",
   "version": "3.9.7"
  }
 },
 "nbformat": 4,
 "nbformat_minor": 5
}
